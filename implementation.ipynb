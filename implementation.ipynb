{
 "cells": [
  {
   "cell_type": "markdown",
   "metadata": {},
   "source": [
    "# Baseline using BM25"
   ]
  },
  {
   "cell_type": "markdown",
   "metadata": {},
   "source": [
    "## Imports"
   ]
  },
  {
   "cell_type": "code",
   "execution_count": 34,
   "metadata": {},
   "outputs": [],
   "source": [
    "import pandas as pd\n",
    "import numpy as np\n",
    "from rank_bm25 import BM25Okapi\n",
    "import nltk\n",
    "import string"
   ]
  },
  {
   "cell_type": "code",
   "execution_count": 36,
   "metadata": {},
   "outputs": [
    {
     "name": "stderr",
     "output_type": "stream",
     "text": [
      "[nltk_data] Downloading package stopwords to\n",
      "[nltk_data]     C:\\Users\\Magnus\\AppData\\Roaming\\nltk_data...\n",
      "[nltk_data]   Package stopwords is already up-to-date!\n"
     ]
    }
   ],
   "source": [
    "nltk.download(\"stopwords\")\n",
    "STOPWORDS = set(nltk.corpus.stopwords.words(\"english\"))\n",
    "PUNCTUATIONS = string.punctuation"
   ]
  },
  {
   "cell_type": "code",
   "execution_count": 65,
   "metadata": {},
   "outputs": [
    {
     "data": {
      "text/plain": [
       "{'a',\n",
       " 'about',\n",
       " 'above',\n",
       " 'after',\n",
       " 'again',\n",
       " 'against',\n",
       " 'ain',\n",
       " 'all',\n",
       " 'am',\n",
       " 'an',\n",
       " 'and',\n",
       " 'any',\n",
       " 'are',\n",
       " 'aren',\n",
       " \"aren't\",\n",
       " 'as',\n",
       " 'at',\n",
       " 'be',\n",
       " 'because',\n",
       " 'been',\n",
       " 'before',\n",
       " 'being',\n",
       " 'below',\n",
       " 'between',\n",
       " 'both',\n",
       " 'but',\n",
       " 'by',\n",
       " 'can',\n",
       " 'couldn',\n",
       " \"couldn't\",\n",
       " 'd',\n",
       " 'did',\n",
       " 'didn',\n",
       " \"didn't\",\n",
       " 'do',\n",
       " 'does',\n",
       " 'doesn',\n",
       " \"doesn't\",\n",
       " 'doing',\n",
       " 'don',\n",
       " \"don't\",\n",
       " 'down',\n",
       " 'during',\n",
       " 'each',\n",
       " 'few',\n",
       " 'for',\n",
       " 'from',\n",
       " 'further',\n",
       " 'had',\n",
       " 'hadn',\n",
       " \"hadn't\",\n",
       " 'has',\n",
       " 'hasn',\n",
       " \"hasn't\",\n",
       " 'have',\n",
       " 'haven',\n",
       " \"haven't\",\n",
       " 'having',\n",
       " 'he',\n",
       " 'her',\n",
       " 'here',\n",
       " 'hers',\n",
       " 'herself',\n",
       " 'him',\n",
       " 'himself',\n",
       " 'his',\n",
       " 'how',\n",
       " 'i',\n",
       " 'if',\n",
       " 'in',\n",
       " 'into',\n",
       " 'is',\n",
       " 'isn',\n",
       " \"isn't\",\n",
       " 'it',\n",
       " \"it's\",\n",
       " 'its',\n",
       " 'itself',\n",
       " 'just',\n",
       " 'll',\n",
       " 'm',\n",
       " 'ma',\n",
       " 'me',\n",
       " 'mightn',\n",
       " \"mightn't\",\n",
       " 'more',\n",
       " 'most',\n",
       " 'mustn',\n",
       " \"mustn't\",\n",
       " 'my',\n",
       " 'myself',\n",
       " 'needn',\n",
       " \"needn't\",\n",
       " 'no',\n",
       " 'nor',\n",
       " 'not',\n",
       " 'now',\n",
       " 'o',\n",
       " 'of',\n",
       " 'off',\n",
       " 'on',\n",
       " 'once',\n",
       " 'only',\n",
       " 'or',\n",
       " 'other',\n",
       " 'our',\n",
       " 'ours',\n",
       " 'ourselves',\n",
       " 'out',\n",
       " 'over',\n",
       " 'own',\n",
       " 're',\n",
       " 's',\n",
       " 'same',\n",
       " 'shan',\n",
       " \"shan't\",\n",
       " 'she',\n",
       " \"she's\",\n",
       " 'should',\n",
       " \"should've\",\n",
       " 'shouldn',\n",
       " \"shouldn't\",\n",
       " 'so',\n",
       " 'some',\n",
       " 'such',\n",
       " 't',\n",
       " 'than',\n",
       " 'that',\n",
       " \"that'll\",\n",
       " 'the',\n",
       " 'their',\n",
       " 'theirs',\n",
       " 'them',\n",
       " 'themselves',\n",
       " 'then',\n",
       " 'there',\n",
       " 'these',\n",
       " 'they',\n",
       " 'this',\n",
       " 'those',\n",
       " 'through',\n",
       " 'to',\n",
       " 'too',\n",
       " 'under',\n",
       " 'until',\n",
       " 'up',\n",
       " 've',\n",
       " 'very',\n",
       " 'was',\n",
       " 'wasn',\n",
       " \"wasn't\",\n",
       " 'we',\n",
       " 'were',\n",
       " 'weren',\n",
       " \"weren't\",\n",
       " 'what',\n",
       " 'when',\n",
       " 'where',\n",
       " 'which',\n",
       " 'while',\n",
       " 'who',\n",
       " 'whom',\n",
       " 'why',\n",
       " 'will',\n",
       " 'with',\n",
       " 'won',\n",
       " \"won't\",\n",
       " 'wouldn',\n",
       " \"wouldn't\",\n",
       " 'y',\n",
       " 'you',\n",
       " \"you'd\",\n",
       " \"you'll\",\n",
       " \"you're\",\n",
       " \"you've\",\n",
       " 'your',\n",
       " 'yours',\n",
       " 'yourself',\n",
       " 'yourselves'}"
      ]
     },
     "execution_count": 65,
     "metadata": {},
     "output_type": "execute_result"
    }
   ],
   "source": [
    "STOPWORDS"
   ]
  },
  {
   "cell_type": "markdown",
   "metadata": {},
   "source": [
    "## Read data"
   ]
  },
  {
   "cell_type": "code",
   "execution_count": 4,
   "metadata": {},
   "outputs": [
    {
     "name": "stdout",
     "output_type": "stream",
     "text": [
      "101093\n",
      "808731\n",
      "101092\n"
     ]
    }
   ],
   "source": [
    "# Queries dev, train or eval\n",
    "queries_dev_df = pd.read_csv(\"data/queries/queries.dev.tsv\", sep='\\t', header=None)\n",
    "print(len(queries_dev_df))\n",
    "\n",
    "# Not used currently\n",
    "queries_train_df = pd.read_csv(\"data/queries/queries.train.tsv\", sep='\\t', header=None)\n",
    "print(len(queries_train_df))\n",
    "queries_eval_df = pd.read_csv(\"data/queries/queries.eval.tsv\", sep='\\t', header=None)\n",
    "print(len(queries_eval_df))"
   ]
  },
  {
   "cell_type": "code",
   "execution_count": 3,
   "metadata": {},
   "outputs": [
    {
     "data": {
      "text/plain": [
       "8841823"
      ]
     },
     "execution_count": 3,
     "metadata": {},
     "output_type": "execute_result"
    }
   ],
   "source": [
    "# Passages to rank based on query\n",
    "collection_df = pd.read_csv(\"data/collection/collection.tsv\", sep='\\t', header=None)\n",
    "len(collection_df)"
   ]
  },
  {
   "cell_type": "code",
   "execution_count": 8,
   "metadata": {},
   "outputs": [],
   "source": [
    "query_sample = queries_dev_df.head(500)\n",
    "passage_sample = collection_df.head(5000)"
   ]
  },
  {
   "cell_type": "markdown",
   "metadata": {},
   "source": [
    "## Preprocessing"
   ]
  },
  {
   "cell_type": "code",
   "execution_count": 87,
   "metadata": {},
   "outputs": [
    {
     "data": {
      "text/plain": [
       "'cost of endless pools/swim spa'"
      ]
     },
     "execution_count": 87,
     "metadata": {},
     "output_type": "execute_result"
    }
   ],
   "source": [
    "queries_id = np.array(query_sample.iloc[:, 0])\n",
    "queries = np.array(query_sample.iloc[:, -1])\n",
    "queries[0]"
   ]
  },
  {
   "cell_type": "code",
   "execution_count": 88,
   "metadata": {},
   "outputs": [
    {
     "data": {
      "text/plain": [
       "'The presence of communication amid scientific minds was equally important to the success of the Manhattan Project as scientific intellect was. The only cloud hanging over the impressive achievement of the atomic researchers and engineers is what their success truly meant; hundreds of thousands of innocent lives obliterated.'"
      ]
     },
     "execution_count": 88,
     "metadata": {},
     "output_type": "execute_result"
    }
   ],
   "source": [
    "passages_id = np.array(passage_sample.iloc[:, 0])\n",
    "passages = np.array(passage_sample.iloc[:, -1])\n",
    "passages[0]"
   ]
  },
  {
   "cell_type": "code",
   "execution_count": 56,
   "metadata": {},
   "outputs": [],
   "source": [
    "def tokenize(corpus):\n",
    "    tokenized_corpus = []\n",
    "\n",
    "    for doc in corpus:\n",
    "        # Remove specific punctuations\n",
    "        for punctuation in PUNCTUATIONS:\n",
    "            doc = doc.replace(punctuation, \" \")\n",
    "\n",
    "        # Get only the words, not the whitespace\n",
    "        words = [word for word in doc.split(\" \") if word]\n",
    "\n",
    "        # Remove specific stopwords\n",
    "        words = [word for word in words if word not in STOPWORDS]\n",
    "\n",
    "        # Add to the list of tokenized docs\n",
    "        tokenized_corpus.append(words)\n",
    "\n",
    "    return tokenized_corpus"
   ]
  },
  {
   "cell_type": "code",
   "execution_count": 58,
   "metadata": {},
   "outputs": [
    {
     "data": {
      "text/plain": [
       "[['cost', 'endless', 'pools', 'swim', 'spa'], ['pcnt'], ['pcb', 'waste']]"
      ]
     },
     "execution_count": 58,
     "metadata": {},
     "output_type": "execute_result"
    }
   ],
   "source": [
    "tokenized_queries = tokenize(queries)\n",
    "tokenized_queries[0:3]"
   ]
  },
  {
   "cell_type": "code",
   "execution_count": 59,
   "metadata": {},
   "outputs": [
    {
     "data": {
      "text/plain": [
       "[['The',\n",
       "  'presence',\n",
       "  'communication',\n",
       "  'amid',\n",
       "  'scientific',\n",
       "  'minds',\n",
       "  'equally',\n",
       "  'important',\n",
       "  'success',\n",
       "  'Manhattan',\n",
       "  'Project',\n",
       "  'scientific',\n",
       "  'intellect',\n",
       "  'The',\n",
       "  'cloud',\n",
       "  'hanging',\n",
       "  'impressive',\n",
       "  'achievement',\n",
       "  'atomic',\n",
       "  'researchers',\n",
       "  'engineers',\n",
       "  'success',\n",
       "  'truly',\n",
       "  'meant',\n",
       "  'hundreds',\n",
       "  'thousands',\n",
       "  'innocent',\n",
       "  'lives',\n",
       "  'obliterated'],\n",
       " ['The',\n",
       "  'Manhattan',\n",
       "  'Project',\n",
       "  'atomic',\n",
       "  'bomb',\n",
       "  'helped',\n",
       "  'bring',\n",
       "  'end',\n",
       "  'World',\n",
       "  'War',\n",
       "  'II',\n",
       "  'Its',\n",
       "  'legacy',\n",
       "  'peaceful',\n",
       "  'uses',\n",
       "  'atomic',\n",
       "  'energy',\n",
       "  'continues',\n",
       "  'impact',\n",
       "  'history',\n",
       "  'science'],\n",
       " ['Essay',\n",
       "  'The',\n",
       "  'Manhattan',\n",
       "  'Project',\n",
       "  'The',\n",
       "  'Manhattan',\n",
       "  'Project',\n",
       "  'The',\n",
       "  'Manhattan',\n",
       "  'Project',\n",
       "  'see',\n",
       "  'making',\n",
       "  'atomic',\n",
       "  'bomb',\n",
       "  'possible',\n",
       "  'The',\n",
       "  'success',\n",
       "  'project',\n",
       "  'would',\n",
       "  'forever',\n",
       "  'change',\n",
       "  'world',\n",
       "  'forever',\n",
       "  'making',\n",
       "  'known',\n",
       "  'something',\n",
       "  'powerful',\n",
       "  'manmade']]"
      ]
     },
     "execution_count": 59,
     "metadata": {},
     "output_type": "execute_result"
    }
   ],
   "source": [
    "tokenized_passages = tokenize(passages)\n",
    "tokenized_passages[0:3]"
   ]
  },
  {
   "cell_type": "code",
   "execution_count": 89,
   "metadata": {},
   "outputs": [],
   "source": [
    "# Dictionary to look up id\n",
    "query_lookup = {}\n",
    "for idx, query in enumerate(queries):\n",
    "    query_lookup[query] = queries_id[idx]\n",
    "\n",
    "passage_lookup = {}\n",
    "for idx, passage in enumerate(passages):\n",
    "    passage_lookup[passage] = passages_id[idx]"
   ]
  },
  {
   "cell_type": "markdown",
   "metadata": {},
   "source": [
    "## BM25 Implementation\n",
    "- https://pypi.org/project/rank-bm25/\n",
    "- http://www.cs.otago.ac.nz/homepages/andrew/papers/2014-2.pdf"
   ]
  },
  {
   "cell_type": "code",
   "execution_count": 60,
   "metadata": {},
   "outputs": [
    {
     "data": {
      "text/plain": [
       "['cost', 'endless', 'pools', 'swim', 'spa']"
      ]
     },
     "execution_count": 60,
     "metadata": {},
     "output_type": "execute_result"
    }
   ],
   "source": [
    "bm25 = BM25Okapi(tokenized_passages)\n",
    "query1 = tokenized_queries[0]\n",
    "query1"
   ]
  },
  {
   "cell_type": "code",
   "execution_count": 61,
   "metadata": {},
   "outputs": [
    {
     "name": "stdout",
     "output_type": "stream",
     "text": [
      "5000\n",
      "[0. 0. 0. ... 0. 0. 0.]\n"
     ]
    }
   ],
   "source": [
    "doc_scores = bm25.get_scores(query1)\n",
    "print(len(doc_scores))\n",
    "print(doc_scores)"
   ]
  },
  {
   "cell_type": "code",
   "execution_count": 92,
   "metadata": {},
   "outputs": [
    {
     "data": {
      "text/plain": [
       "['The Army Navy Country Club has been operational for over 85 years and offers two golf courses, six swimming pools, 20 tennis courts (6 indoor and 14 outdoor), a fitness center and many more amenities.',\n",
       " 'Difference Between Electromagnetic Waves and Radio Waves. Electromagnetic waves are a type of wave that is present in nature. The applications of electromagnetic waves are endless. The theory of electromagnetism is a vast field in classical mechanics and in modern physics, as well.',\n",
       " \"If you're going to grow mint in a container, I would chose a nice BIG and deep one and mix 'em up (spearmint, peppermint, orange mint, apple mint, chocolate mint, lime mint, the varieties are endless!). It's nice to have different types.\"]"
      ]
     },
     "execution_count": 92,
     "metadata": {},
     "output_type": "execute_result"
    }
   ],
   "source": [
    "top_3 = bm25.get_top_n(query1, passages, n=3)\n",
    "top_3"
   ]
  },
  {
   "cell_type": "code",
   "execution_count": 95,
   "metadata": {},
   "outputs": [
    {
     "data": {
      "text/plain": [
       "1048578"
      ]
     },
     "execution_count": 95,
     "metadata": {},
     "output_type": "execute_result"
    }
   ],
   "source": [
    "query1_id = query_lookup[queries[0]]\n",
    "query1_id"
   ]
  },
  {
   "cell_type": "code",
   "execution_count": 97,
   "metadata": {},
   "outputs": [
    {
     "name": "stdout",
     "output_type": "stream",
     "text": [
      "894\n",
      "1839\n",
      "3789\n"
     ]
    }
   ],
   "source": [
    "for passage in top_3:\n",
    "    print(passage_lookup[passage])"
   ]
  },
  {
   "cell_type": "code",
   "execution_count": null,
   "metadata": {},
   "outputs": [],
   "source": [
    "# TODO:\n",
    "    # Use train/eval to see how well the bm25 works"
   ]
  },
  {
   "cell_type": "code",
   "execution_count": 109,
   "metadata": {},
   "outputs": [
    {
     "data": {
      "text/html": [
       "<div>\n",
       "<style scoped>\n",
       "    .dataframe tbody tr th:only-of-type {\n",
       "        vertical-align: middle;\n",
       "    }\n",
       "\n",
       "    .dataframe tbody tr th {\n",
       "        vertical-align: top;\n",
       "    }\n",
       "\n",
       "    .dataframe thead th {\n",
       "        text-align: right;\n",
       "    }\n",
       "</style>\n",
       "<table border=\"1\" class=\"dataframe\">\n",
       "  <thead>\n",
       "    <tr style=\"text-align: right;\">\n",
       "      <th></th>\n",
       "      <th>0</th>\n",
       "      <th>1</th>\n",
       "      <th>2</th>\n",
       "      <th>3</th>\n",
       "    </tr>\n",
       "  </thead>\n",
       "  <tbody>\n",
       "    <tr>\n",
       "      <th>0</th>\n",
       "      <td>1102432</td>\n",
       "      <td>0</td>\n",
       "      <td>2026790</td>\n",
       "      <td>1</td>\n",
       "    </tr>\n",
       "    <tr>\n",
       "      <th>1</th>\n",
       "      <td>1102431</td>\n",
       "      <td>0</td>\n",
       "      <td>7066866</td>\n",
       "      <td>1</td>\n",
       "    </tr>\n",
       "    <tr>\n",
       "      <th>2</th>\n",
       "      <td>1102431</td>\n",
       "      <td>0</td>\n",
       "      <td>7066867</td>\n",
       "      <td>1</td>\n",
       "    </tr>\n",
       "    <tr>\n",
       "      <th>3</th>\n",
       "      <td>1090282</td>\n",
       "      <td>0</td>\n",
       "      <td>7066900</td>\n",
       "      <td>1</td>\n",
       "    </tr>\n",
       "    <tr>\n",
       "      <th>4</th>\n",
       "      <td>39449</td>\n",
       "      <td>0</td>\n",
       "      <td>7066905</td>\n",
       "      <td>1</td>\n",
       "    </tr>\n",
       "    <tr>\n",
       "      <th>5</th>\n",
       "      <td>76162</td>\n",
       "      <td>0</td>\n",
       "      <td>7066915</td>\n",
       "      <td>1</td>\n",
       "    </tr>\n",
       "    <tr>\n",
       "      <th>6</th>\n",
       "      <td>195512</td>\n",
       "      <td>0</td>\n",
       "      <td>7066971</td>\n",
       "      <td>1</td>\n",
       "    </tr>\n",
       "    <tr>\n",
       "      <th>7</th>\n",
       "      <td>1090280</td>\n",
       "      <td>0</td>\n",
       "      <td>7067004</td>\n",
       "      <td>1</td>\n",
       "    </tr>\n",
       "    <tr>\n",
       "      <th>8</th>\n",
       "      <td>331318</td>\n",
       "      <td>0</td>\n",
       "      <td>5309290</td>\n",
       "      <td>1</td>\n",
       "    </tr>\n",
       "    <tr>\n",
       "      <th>9</th>\n",
       "      <td>300674</td>\n",
       "      <td>0</td>\n",
       "      <td>7067032</td>\n",
       "      <td>1</td>\n",
       "    </tr>\n",
       "  </tbody>\n",
       "</table>\n",
       "</div>"
      ],
      "text/plain": [
       "         0  1        2  3\n",
       "0  1102432  0  2026790  1\n",
       "1  1102431  0  7066866  1\n",
       "2  1102431  0  7066867  1\n",
       "3  1090282  0  7066900  1\n",
       "4    39449  0  7066905  1\n",
       "5    76162  0  7066915  1\n",
       "6   195512  0  7066971  1\n",
       "7  1090280  0  7067004  1\n",
       "8   331318  0  5309290  1\n",
       "9   300674  0  7067032  1"
      ]
     },
     "execution_count": 109,
     "metadata": {},
     "output_type": "execute_result"
    }
   ],
   "source": [
    "qrels_dev_df = pd.read_csv(\"data/qrels.dev.tsv\", sep='\\t', header=None)\n",
    "qrels_dev_df.head(10)"
   ]
  },
  {
   "cell_type": "code",
   "execution_count": 110,
   "metadata": {},
   "outputs": [
    {
     "data": {
      "text/plain": [
       "59273"
      ]
     },
     "execution_count": 110,
     "metadata": {},
     "output_type": "execute_result"
    }
   ],
   "source": [
    "len(qrels_dev_df)"
   ]
  },
  {
   "cell_type": "code",
   "execution_count": 115,
   "metadata": {},
   "outputs": [
    {
     "data": {
      "text/plain": [
       "55578"
      ]
     },
     "execution_count": 115,
     "metadata": {},
     "output_type": "execute_result"
    }
   ],
   "source": [
    "len(qrels_dev_df.iloc[:, 0].unique())"
   ]
  },
  {
   "cell_type": "code",
   "execution_count": 117,
   "metadata": {},
   "outputs": [
    {
     "data": {
      "text/plain": [
       "array([1], dtype=int64)"
      ]
     },
     "execution_count": 117,
     "metadata": {},
     "output_type": "execute_result"
    }
   ],
   "source": [
    "qrels_dev_df.iloc[:, 3].unique()"
   ]
  },
  {
   "cell_type": "code",
   "execution_count": null,
   "metadata": {},
   "outputs": [],
   "source": [
    "# Qid, literal 0, Pid, relevance"
   ]
  },
  {
   "cell_type": "markdown",
   "metadata": {},
   "source": [
    "## Resultater\n",
    "- Se M5-retrieval_evaluation for å se hvordan man skal sammenlikne rank og ground truth"
   ]
  }
 ],
 "metadata": {
  "kernelspec": {
   "display_name": "Python 3.9.6 64-bit",
   "language": "python",
   "name": "python3"
  },
  "language_info": {
   "codemirror_mode": {
    "name": "ipython",
    "version": 3
   },
   "file_extension": ".py",
   "mimetype": "text/x-python",
   "name": "python",
   "nbconvert_exporter": "python",
   "pygments_lexer": "ipython3",
   "version": "3.9.6"
  },
  "orig_nbformat": 4,
  "vscode": {
   "interpreter": {
    "hash": "773605ce8f27446b9c69ae732168258e47ea10fbda5833a68cc76e4c6c0866c9"
   }
  }
 },
 "nbformat": 4,
 "nbformat_minor": 2
}
