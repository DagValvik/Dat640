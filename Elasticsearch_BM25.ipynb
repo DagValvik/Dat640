{
 "cells": [
  {
   "cell_type": "code",
   "execution_count": 1,
   "metadata": {},
   "outputs": [],
   "source": [
    "from elasticsearch import Elasticsearch\n",
    "from pprint import pprint\n",
    "import pandas as pd\n",
    "import numpy as np\n",
    "import string\n",
    "PUNCTUATIONS = string.punctuation\n",
    "from typing import Callable\n",
    "import nltk\n",
    "nltk.download(\"stopwords\")\n",
    "STOPWORDS = set(nltk.corpus.stopwords.words(\"english\"))"
   ]
  },
  {
   "cell_type": "code",
   "execution_count": 39,
   "metadata": {},
   "outputs": [
    {
     "name": "stderr",
     "output_type": "stream",
     "text": [
      "[nltk_data] Downloading package stopwords to\n",
      "[nltk_data]     C:\\Users\\Magnus\\AppData\\Roaming\\nltk_data...\n",
      "[nltk_data]   Package stopwords is already up-to-date!\n"
     ]
    }
   ],
   "source": [
    "import nltk\n",
    "nltk.download(\"stopwords\")\n",
    "STOPWORDS = set(nltk.corpus.stopwords.words(\"english\"))"
   ]
  },
  {
   "cell_type": "markdown",
   "metadata": {},
   "source": [
    "### Settings for ElasticSearch"
   ]
  },
  {
   "cell_type": "code",
   "execution_count": 3,
   "metadata": {},
   "outputs": [],
   "source": [
    "INDEX_NAME = \"passage_index\"\n",
    "INDEX_SETTINGS = {\n",
    "    'settings': {\n",
    "        'index': {\n",
    "            'number_of_shards': 1,\n",
    "            'number_of_replicas': 1,\n",
    "            'similarity': {\n",
    "                'default': {\n",
    "                    'type': 'BM25'\n",
    "                }\n",
    "            }\n",
    "        },\n",
    "        \"analysis\": {\n",
    "            \"analyzer\": {\n",
    "                \"my_english_analyzer\": {\n",
    "                    \"type\": \"custom\",\n",
    "                    \"tokenizer\": \"standard\",\n",
    "                    \"stopwords\": \"_english_\",\n",
    "                    \"filter\": [\n",
    "                        \"lowercase\",\n",
    "                        \"english_stop\",\n",
    "                        \"filter_english_minimal\"\n",
    "                    ]                \n",
    "                }\n",
    "            },\n",
    "            \"filter\" : {\n",
    "                \"filter_english_minimal\" : {\n",
    "                    \"type\": \"stemmer\",\n",
    "                    \"name\": \"minimal_english\"\n",
    "                },\n",
    "                \"english_stop\": {\n",
    "                    \"type\": \"stop\",\n",
    "                    \"stopwords\": \"_english_\"\n",
    "                }\n",
    "            },\n",
    "        }\n",
    "    }\n",
    "}"
   ]
  },
  {
   "cell_type": "markdown",
   "metadata": {},
   "source": [
    "### Create ElasticSearch object"
   ]
  },
  {
   "cell_type": "code",
   "execution_count": 6,
   "metadata": {},
   "outputs": [
    {
     "name": "stderr",
     "output_type": "stream",
     "text": [
      "c:\\Users\\Magnus\\AppData\\Local\\Programs\\Python\\Python39\\lib\\site-packages\\elasticsearch\\connection\\base.py:200: ElasticsearchWarning: Elasticsearch built-in security features are not enabled. Without authentication, your cluster could be accessible to anyone. See https://www.elastic.co/guide/en/elasticsearch/reference/7.17/security-minimal-setup.html to enable security.\n",
      "  warnings.warn(message, category=ElasticsearchWarning)\n"
     ]
    },
    {
     "data": {
      "text/plain": [
       "{'name': 'DESKTOP-4KEQLR4',\n",
       " 'cluster_name': 'elasticsearch',\n",
       " 'cluster_uuid': 'qD7n4NS8S-SNKCPLlHHbhA',\n",
       " 'version': {'number': '7.17.6',\n",
       "  'build_flavor': 'default',\n",
       "  'build_type': 'zip',\n",
       "  'build_hash': 'f65e9d338dc1d07b642e14a27f338990148ee5b6',\n",
       "  'build_date': '2022-08-23T11:08:48.893373482Z',\n",
       "  'build_snapshot': False,\n",
       "  'lucene_version': '8.11.1',\n",
       "  'minimum_wire_compatibility_version': '6.8.0',\n",
       "  'minimum_index_compatibility_version': '6.0.0-beta1'},\n",
       " 'tagline': 'You Know, for Search'}"
      ]
     },
     "execution_count": 6,
     "metadata": {},
     "output_type": "execute_result"
    }
   ],
   "source": [
    "es = Elasticsearch()\n",
    "es.info()"
   ]
  },
  {
   "cell_type": "markdown",
   "metadata": {},
   "source": [
    "### Create indexes for the passages"
   ]
  },
  {
   "cell_type": "code",
   "execution_count": 8,
   "metadata": {},
   "outputs": [
    {
     "name": "stderr",
     "output_type": "stream",
     "text": [
      "C:\\Users\\Magnus\\AppData\\Local\\Temp/ipykernel_6324/1683882437.py:1: DeprecationWarning: Using positional arguments for APIs is deprecated and will be disabled in 8.0.0. Instead use only keyword arguments for all APIs. See https://github.com/elastic/elasticsearch-py/issues/1698 for more information\n",
      "  if es.indices.exists(INDEX_NAME):\n",
      "C:\\Users\\Magnus\\AppData\\Local\\Temp/ipykernel_6324/1683882437.py:4: DeprecationWarning: The 'body' parameter is deprecated for the 'create' API and will be removed in a future version. Instead use API parameters directly. See https://github.com/elastic/elasticsearch-py/issues/1698 for more information\n",
      "  es.indices.create(index=INDEX_NAME, body=INDEX_SETTINGS)\n"
     ]
    },
    {
     "data": {
      "text/plain": [
       "{'acknowledged': True, 'shards_acknowledged': True, 'index': 'passage_index'}"
      ]
     },
     "execution_count": 8,
     "metadata": {},
     "output_type": "execute_result"
    }
   ],
   "source": [
    "if es.indices.exists(INDEX_NAME):\n",
    "    es.indices.delete(index=INDEX_NAME)\n",
    "\n",
    "es.indices.create(index=INDEX_NAME, body=INDEX_SETTINGS)"
   ]
  },
  {
   "cell_type": "markdown",
   "metadata": {},
   "source": [
    "### Add documents to the index"
   ]
  },
  {
   "cell_type": "code",
   "execution_count": 9,
   "metadata": {},
   "outputs": [],
   "source": [
    "# Bulk indexing\n",
    "filename = \"data/collection/collection.tsv\"\n",
    "\n",
    "bulk_data = []\n",
    "bulk_size = 50000 # However many documents can be stored in memory\n",
    "with open(filename, encoding=\"utf-8\") as file:\n",
    "    for line in file:\n",
    "        if len(bulk_data) > bulk_size:\n",
    "            es.bulk(index=INDEX_NAME, body=bulk_data, refresh=True, request_timeout=60)\n",
    "            bulk_data.clear()\n",
    "\n",
    "        l = line.split('\\t')\n",
    "        docid = int(l[0])\n",
    "        text = l[1].strip()\n",
    "\n",
    "        doc = {\"doc_id\": docid, \"content\": text}\n",
    "\n",
    "        bulk_data.append({\"index\": {\"_index\": INDEX_NAME, \"_id\": doc.pop(\"doc_id\")}})\n",
    "        bulk_data.append(doc)\n",
    "    \n",
    "    es.bulk(index=INDEX_NAME, body=bulk_data, refresh=True, request_timeout=60)\n",
    "    bulk_data.clear()"
   ]
  },
  {
   "cell_type": "code",
   "execution_count": null,
   "metadata": {},
   "outputs": [],
   "source": [
    "doc = es.get(index=INDEX_NAME, id=1)\n",
    "pprint(doc)"
   ]
  },
  {
   "cell_type": "markdown",
   "metadata": {},
   "source": [
    "### Search in the document"
   ]
  },
  {
   "cell_type": "code",
   "execution_count": null,
   "metadata": {},
   "outputs": [],
   "source": [
    "query = \"atomic bomb\"\n",
    "res = es.search(index=INDEX_NAME, q=query, _source=False, size=10, request_timeout=60)"
   ]
  },
  {
   "cell_type": "code",
   "execution_count": null,
   "metadata": {},
   "outputs": [],
   "source": [
    "for hit in res[\"hits\"][\"hits\"]:\n",
    "    print(\"Doc ID: %3r  Score: %5.2f\" % (hit[\"_id\"], hit[\"_score\"]))"
   ]
  },
  {
   "cell_type": "code",
   "execution_count": null,
   "metadata": {},
   "outputs": [],
   "source": [
    "top_k_scores = [hit[\"_id\"] for hit in res[\"hits\"][\"hits\"]]\n",
    "top_k_scores"
   ]
  },
  {
   "cell_type": "markdown",
   "metadata": {},
   "source": [
    "### Make QRELS evaluation-able\n",
    "- \"query_id\": [\"doc_id1\", \"doc_id2\"...] -> Relevant ones, ground truth, Set() in this case"
   ]
  },
  {
   "cell_type": "code",
   "execution_count": 24,
   "metadata": {},
   "outputs": [
    {
     "data": {
      "text/html": [
       "<div>\n",
       "<style scoped>\n",
       "    .dataframe tbody tr th:only-of-type {\n",
       "        vertical-align: middle;\n",
       "    }\n",
       "\n",
       "    .dataframe tbody tr th {\n",
       "        vertical-align: top;\n",
       "    }\n",
       "\n",
       "    .dataframe thead th {\n",
       "        text-align: right;\n",
       "    }\n",
       "</style>\n",
       "<table border=\"1\" class=\"dataframe\">\n",
       "  <thead>\n",
       "    <tr style=\"text-align: right;\">\n",
       "      <th></th>\n",
       "      <th>0</th>\n",
       "      <th>1</th>\n",
       "      <th>2</th>\n",
       "      <th>3</th>\n",
       "    </tr>\n",
       "  </thead>\n",
       "  <tbody>\n",
       "    <tr>\n",
       "      <th>0</th>\n",
       "      <td>1102432</td>\n",
       "      <td>0</td>\n",
       "      <td>2026790</td>\n",
       "      <td>1</td>\n",
       "    </tr>\n",
       "    <tr>\n",
       "      <th>1</th>\n",
       "      <td>1102431</td>\n",
       "      <td>0</td>\n",
       "      <td>7066866</td>\n",
       "      <td>1</td>\n",
       "    </tr>\n",
       "    <tr>\n",
       "      <th>2</th>\n",
       "      <td>1102431</td>\n",
       "      <td>0</td>\n",
       "      <td>7066867</td>\n",
       "      <td>1</td>\n",
       "    </tr>\n",
       "    <tr>\n",
       "      <th>3</th>\n",
       "      <td>1090282</td>\n",
       "      <td>0</td>\n",
       "      <td>7066900</td>\n",
       "      <td>1</td>\n",
       "    </tr>\n",
       "    <tr>\n",
       "      <th>4</th>\n",
       "      <td>39449</td>\n",
       "      <td>0</td>\n",
       "      <td>7066905</td>\n",
       "      <td>1</td>\n",
       "    </tr>\n",
       "    <tr>\n",
       "      <th>5</th>\n",
       "      <td>76162</td>\n",
       "      <td>0</td>\n",
       "      <td>7066915</td>\n",
       "      <td>1</td>\n",
       "    </tr>\n",
       "    <tr>\n",
       "      <th>6</th>\n",
       "      <td>195512</td>\n",
       "      <td>0</td>\n",
       "      <td>7066971</td>\n",
       "      <td>1</td>\n",
       "    </tr>\n",
       "    <tr>\n",
       "      <th>7</th>\n",
       "      <td>1090280</td>\n",
       "      <td>0</td>\n",
       "      <td>7067004</td>\n",
       "      <td>1</td>\n",
       "    </tr>\n",
       "    <tr>\n",
       "      <th>8</th>\n",
       "      <td>331318</td>\n",
       "      <td>0</td>\n",
       "      <td>5309290</td>\n",
       "      <td>1</td>\n",
       "    </tr>\n",
       "    <tr>\n",
       "      <th>9</th>\n",
       "      <td>300674</td>\n",
       "      <td>0</td>\n",
       "      <td>7067032</td>\n",
       "      <td>1</td>\n",
       "    </tr>\n",
       "  </tbody>\n",
       "</table>\n",
       "</div>"
      ],
      "text/plain": [
       "         0  1        2  3\n",
       "0  1102432  0  2026790  1\n",
       "1  1102431  0  7066866  1\n",
       "2  1102431  0  7066867  1\n",
       "3  1090282  0  7066900  1\n",
       "4    39449  0  7066905  1\n",
       "5    76162  0  7066915  1\n",
       "6   195512  0  7066971  1\n",
       "7  1090280  0  7067004  1\n",
       "8   331318  0  5309290  1\n",
       "9   300674  0  7067032  1"
      ]
     },
     "execution_count": 24,
     "metadata": {},
     "output_type": "execute_result"
    }
   ],
   "source": [
    "qrels_dev_df = pd.read_csv(\"data/qrels.dev.tsv\", sep='\\t', header=None)\n",
    "qrels_dev_df.head(10)"
   ]
  },
  {
   "cell_type": "code",
   "execution_count": 29,
   "metadata": {},
   "outputs": [
    {
     "data": {
      "text/plain": [
       "55578"
      ]
     },
     "execution_count": 29,
     "metadata": {},
     "output_type": "execute_result"
    }
   ],
   "source": [
    "len(qrels_dev_df.iloc[:, 0].unique())"
   ]
  },
  {
   "cell_type": "code",
   "execution_count": 61,
   "metadata": {},
   "outputs": [
    {
     "data": {
      "text/plain": [
       "array([1102432, 2026790], dtype=int64)"
      ]
     },
     "execution_count": 61,
     "metadata": {},
     "output_type": "execute_result"
    }
   ],
   "source": [
    "qrels = np.array(qrels_dev_df)[:, [0, 2]]\n",
    "qrels[0]"
   ]
  },
  {
   "cell_type": "code",
   "execution_count": 64,
   "metadata": {},
   "outputs": [],
   "source": [
    "qrels_score = {}\n",
    "for qrel in qrels:\n",
    "    qid = str(qrel[0])\n",
    "    pid = str(qrel[1])\n",
    "\n",
    "    if qid in qrels_score.keys():\n",
    "        qrels_score[qid].add(pid)\n",
    "    else:\n",
    "        qrels_score[qid] = set([pid])"
   ]
  },
  {
   "cell_type": "code",
   "execution_count": 65,
   "metadata": {},
   "outputs": [
    {
     "data": {
      "text/plain": [
       "{'7187234'}"
      ]
     },
     "execution_count": 65,
     "metadata": {},
     "output_type": "execute_result"
    }
   ],
   "source": [
    "qrels_score[\"1048578\"]"
   ]
  },
  {
   "cell_type": "code",
   "execution_count": 66,
   "metadata": {},
   "outputs": [],
   "source": [
    "unique_qrels = qrels_dev_df.iloc[:, 0].unique()"
   ]
  },
  {
   "cell_type": "markdown",
   "metadata": {},
   "source": [
    "### Read queries"
   ]
  },
  {
   "cell_type": "code",
   "execution_count": 10,
   "metadata": {},
   "outputs": [],
   "source": [
    "queries_dev_df = pd.read_csv(\"data/queries/queries.dev.tsv\", sep='\\t', header=None)"
   ]
  },
  {
   "cell_type": "code",
   "execution_count": 11,
   "metadata": {},
   "outputs": [
    {
     "name": "stdout",
     "output_type": "stream",
     "text": [
      "1048578\n",
      "cost of endless pools/swim spa\n"
     ]
    }
   ],
   "source": [
    "queries_id = np.array(queries_dev_df.iloc[:, 0])\n",
    "queries = np.array(queries_dev_df.iloc[:, -1])\n",
    "print(queries_id[0])\n",
    "print(queries[0])"
   ]
  },
  {
   "cell_type": "code",
   "execution_count": 49,
   "metadata": {},
   "outputs": [],
   "source": [
    "def relevant_queries(queries, qrels):\n",
    "    relevant_queries = []\n",
    "    relevant_queries_id = []\n",
    "\n",
    "    for idx, query in enumerate(queries):\n",
    "        query_id = queries_id[idx]\n",
    "        if int(query_id) in qrels:\n",
    "            relevant_queries.append(query)\n",
    "            relevant_queries_id.append(query_id)\n",
    "\n",
    "    return relevant_queries, relevant_queries_id"
   ]
  },
  {
   "cell_type": "code",
   "execution_count": 50,
   "metadata": {},
   "outputs": [],
   "source": [
    "# Keep only queries in the QRELS\n",
    "queries, queries_id = relevant_queries(queries, unique_qrels)"
   ]
  },
  {
   "cell_type": "code",
   "execution_count": 52,
   "metadata": {},
   "outputs": [],
   "source": [
    "def tokenize(queries):\n",
    "    tokenized_queries = []\n",
    "\n",
    "    for doc in queries:\n",
    "        # Remove specific punctuations\n",
    "        for punctuation in PUNCTUATIONS:\n",
    "            doc = doc.replace(punctuation, \" \")\n",
    "\n",
    "        # Get only the words, not the whitespace\n",
    "        words = [word for word in doc.split(\" \") if word]\n",
    "\n",
    "        # Remove specific stopwords\n",
    "        words = [word for word in words if word not in STOPWORDS]\n",
    "\n",
    "        # Add to the list of tokenized docs\n",
    "        tokenized_queries.append(words)\n",
    "\n",
    "    return tokenized_queries"
   ]
  },
  {
   "cell_type": "code",
   "execution_count": 53,
   "metadata": {},
   "outputs": [],
   "source": [
    "# Tokenize the queries\n",
    "tokenized_queries = tokenize(queries)"
   ]
  },
  {
   "cell_type": "code",
   "execution_count": 54,
   "metadata": {},
   "outputs": [
    {
     "data": {
      "text/plain": [
       "['cost', 'endless', 'pools', 'swim', 'spa']"
      ]
     },
     "execution_count": 54,
     "metadata": {},
     "output_type": "execute_result"
    }
   ],
   "source": [
    "tokenized_queries[0]"
   ]
  },
  {
   "cell_type": "markdown",
   "metadata": {},
   "source": [
    "### Non bulk query search"
   ]
  },
  {
   "cell_type": "code",
   "execution_count": 56,
   "metadata": {},
   "outputs": [],
   "source": [
    "# Non-bulk\n",
    "query_topK = {}\n",
    "for idx, query_id in enumerate(queries_id):\n",
    "    if idx > 10:\n",
    "        break\n",
    "\n",
    "    query = tokenized_queries[idx]\n",
    "    res = es.search(index=INDEX_NAME, q=query, _source=False, size=1000, request_timeout=60)\n",
    "    top_k_scores = [hit[\"_id\"] for hit in res[\"hits\"][\"hits\"]]\n",
    "    query_topK[str(query_id)] = top_k_scores"
   ]
  },
  {
   "cell_type": "code",
   "execution_count": 57,
   "metadata": {},
   "outputs": [
    {
     "name": "stdout",
     "output_type": "stream",
     "text": [
      "1048578\n",
      "['7187236', '7471198', '5365326', '7187241', '6802210', '6750054', '7187239', '7187242', '5365329', '5365325', '1543821', '6794083', '5365323', '5365328', '5478742', '7187234', '5365324', '1543826', '5365322', '5989132', '8105762', '6802216', '2078221', '5948179', '8393323', '1139147', '4920368', '6802217', '2078215', '1139144', '6802211', '2833851', '5363468', '4332300', '7471199', '5177635', '4981275', '7704720', '3111290', '5363466', '3932264', '1890009', '8763665', '5989130', '4332303', '4615607', '6802214', '7471197', '3370397', '8363353', '7187235', '8365147', '8522049', '869511', '7471201', '1139146', '5989131', '6599701', '3111289', '1475488', '7307988', '6802215', '5512955', '7471204', '4332307', '5989136', '6729238', '326620', '7286588', '1139145', '3124007', '675755', '4332304', '6317753', '8022138', '5989134', '6794078', '6802212', '5365327', '8314418', '7676829', '8363351', '7471200', '6802208', '1139149', '6794079', '1295055', '290329', '2175059', '8363350', '396510', '6656280', '8839833', '4919589', '3099737', '6768051', '6395567', '3423959', '4336125', '1654021', '4243889', '6794082', '524435', '7928518', '4616438', '6317755', '1490203', '6656275', '8208016', '8117064', '2690861', '3106951', '5399156', '246039', '290325', '6149467', '5807669', '3818308', '2498656', '7307984', '8676017', '2078217', '6238370', '2388310', '8389805', '4332302', '1139140', '8314420', '290326', '3099732', '7118893', '98792', '3111293', '2916499', '1475484', '4243890', '1462073', '5355706', '3661893', '4126714', '50824', '5025186', '3261444', '46200', '3423961', '2889043', '3159892', '6347088', '6347089', '8255992', '4332306', '6750052', '5478748', '149162', '5834289', '6563070', '4137815', '3489243', '4355722', '4455410', '5989139', '4566103', '6438030', '5025187', '3819531', '4753092', '4137810', '5481303', '8763670', '4349560', '6438026', '6382402', '6106209', '6802209', '3894247', '5566916', '6270168', '8255991', '4887361', '2725165', '1478280', '5355709', '3038754', '4176633', '4677362', '7326194', '2857729', '4871795', '4180477', '2633507', '7914978', '7249372', '2802010', '8839836', '7748432', '6517351', '6149464', '6826515', '2016860', '6449439', '4332301', '290328', '4146550', '4871796', '7978583', '5603233', '6031505', '7187238', '1591035', '2376545', '8341647', '1400634', '3157077', '4572713', '1475481', '2690868', '3732747', '2191320', '6319998', '6553925', '7269662', '8713872', '8306601', '5805567', '4361825', '1975372', '4414788', '869513', '2564718', '8824450', '5448077', '6194074', '5478750', '3336505', '8335455', '572876', '3099741', '5935691', '4747032', '3452015', '2238703', '5350645', '6911924', '7779531', '7187240', '5832300', '5641895', '902210', '7949918', '4957634', '3751668', '7456088', '4894957', '5263224', '4349559', '4946643', '157023', '3428338', '1346675', '6151652', '4399586', '6878305', '8657434', '202216', '868783', '7915749', '300948', '7850732', '4170052', '4024299', '645438', '2855309', '2451710', '7676823', '8208354', '8749075', '6368215', '6719217', '7982389', '3575535', '1852099', '1654870', '7626203', '8312679', '2148797', '4152889', '2920585', '4377322', '6772889', '7843284', '3832116', '2158887', '8801987', '4973394', '7307985', '885329', '5195043', '6031500', '1323859', '6750053', '1834509', '5834294', '7398852', '2407794', '6940029', '6517352', '4414782', '491686', '3287395', '4906885', '2562087', '2391055', '4616800', '2007171', '4854710', '2684773', '524438', '6410389', '3982203', '4647915', '8354412', '7967199', '4299579', '4299581', '4572707', '4429702', '7471203', '8207086', '1400635', '651512', '2863565', '5448074', '1567229', '6062883', '4021787', '730108', '178795', '2447476', '3106954', '334169', '8819751', '5894002', '2730152', '2675591', '4566097', '5263226', '4013759', '5594056', '5511888', '86925', '3439764', '4399584', '2364835', '3647338', '3175590', '1984139', '2016861', '6092461', '8006015', '8006019', '7873010', '1453379', '2441941', '6719219', '8018825', '7082016', '4566098', '5262510', '4106632', '8046716', '690063', '6496420', '3176502', '5989133', '7001471', '7883872', '8276605', '6801217', '8046717', '786187', '1627169', '1975377', '1323534', '1381697', '2165084', '7877573', '7937888', '7937891', '4593709', '1997100', '6419141', '1164693', '5263225', '39028', '2364833', '2187131', '1859650', '1984146', '7446185', '8657438', '8698499', '8532062', '4102904', '4134407', '4567133', '592465', '2188328', '7322336', '6563071', '3367228', '1516995', '4299576', '4854713', '6635888', '5815825', '6108215', '1346679', '751100', '2331959', '2134681', '6000053', '6456448', '6755262', '6933516', '6933519', '8112111', '4593707', '1997101', '6177585', '8309177', '3106955', '7614003', '2772448', '5398402', '744085', '645437', '3280440', '2874671', '4377327', '1574984', '6772891', '7583795', '8771102', '5195046', '1785515', '6687602', '4567130', '4897765', '6868775', '6336550', '5698569', '4615606', '2070993', '1371922', '900661', '1346680', '5356240', '7153506', '8476603', '4176828', '1491259', '3832114', '3721246', '1346678', '882617', '2864724', '4616440', '8763669', '3591750', '6517143', '4431287', '4614260', '5581800', '5857485', '1323529', '1592676', '1066230', '1066235', '1068940', '957563', '4227990', '4361829', '2451702', '3680354', '3564482', '3156820', '1902416', '1635367', '6765382', '7043349', '7785468', '1543823', '6159635', '7269158', '4088175', '6195473', '6177580', '6868770', '1139141', '4332299', '6794077', '437547', '3583581', '993402', '8757505', '5195039', '5864314', '3894249', '3601062', '2136123', '5524549', '2477440', '1592055', '3106952', '8838570', '5741696', '490725', '793497', '504923', '2575006', '8593988', '2078223', '7866717', '3017845', '5971657', '2007175', '4024298', '1008595', '480641', '3415225', '3280439', '4833468', '5089550', '4616802', '3147749', '6765881', '7663468', '8006020', '8022146', '7255919', '7291274', '8153876', '8238237', '8532067', '2407260', '1543820', '5293031', '6238379', '1936539', '6517138', '2495681', '437549', '7308144', '8312686', '5429873', '6138525', '2157591', '2078220', '6563073', '6489113', '5824862', '4105232', '2352783', '7275496', '3012620', '5902233', '1311166', '4550191', '5581801', '5581802', '4158162', '5798840', '5857483', '1411259', '3439759', '3271371', '6143557', '6336554', '7704716', '7532861', '7732327', '8278844', '8792835', '5365330', '5531407', '931201', '3017846', '5971654', '7542748', '7529290', '7586480', '2821943', '8112116', '4679779', '6794081', '7471196', '692901', '4008945', '4041334', '902211', '4521886', '5807665', '3954694', '6559409', '5394024', '4139138', '1248588', '1490202', '230813', '4803279', '2448894', '3099733', '3059437', '7489862', '290480', '5824865', '4106636', '8630169', '5083563', '5263219', '5214905', '5686671', '806733', '86923', '86926', '166429', '166434', '175063', '562489', '335186', '4399590', '4906883', '4481875', '3564478', '3069205', '7313043', '7265835', '7271148', '7732328', '8593064', '2965813', '3930011', '4150938', '3012617', '4471329', '900654', '4566157', '6153332', '1295050', '4215312', '4566102', '5589615', '4659996', '7001464', '2407262', '6246263', '6419146', '3758679', '3529017', '1994906', '8006549', '5262035', '5926642', '7085967', '6153331', '5603235', '626884', '2836610', '3018419', '4273639', '3542470', '3226333', '1834501', '5930041', '6050014', '6068471', '6159567', '6502985', '6842273', '1059554', '3824225', '290484', '5271180', '3163765', '1567228', '6129343', '4106640', '325459', '338217', '4106633', '5698572', '8417981', '3832111', '3085756', '5557582', '6940030', '7762349', '6307494', '2370294', '3238584', '5448080', '4869230', '4869233', '4821809', '2136129', '7529293', '468176', '1346684', '698926', '3238585', '1107279', '3106948', '6267876', '6419142', '6419144', '1426341', '6764155', '5741670', '1531936', '957561', '706575', '4259254', '42297', '5141569', '3653066', '3089492', '2178227', '6114146', '6931864', '7081890', '8577744', '5159662', '5852554', '5356235', '8476600', '8335463', '7992561', '5262513', '1346683', '6419143', '1191498', '3819532', '6500009', '2477441', '4008947', '3758685', '6520508', '6129341', '6031506', '5908518', '1837285', '2977455', '6729233', '7621481', '5834287', '5698570', '3721249', '2272632', '8838568', '290485', '5824861', '685912', '2588295', '4965327', '2489403', '3045409', '3268828', '5935693', '7564512', '3032171', '5289400', '5471161', '4569135', '5971658', '7847531', '5262514', '4106637', '1076776', '5151762', '6153334', '2863559', '5549516', '4835912', '4784961', '2564714', '4566094', '954696', '5741693', '3599303', '1346681', '157022', '5971659', '1353041', '3462359', '6438029', '1202278', '6989619', '2490348', '5835973', '1338451', '993397', '6340658', '6246257', '5383608', '4753093', '6057888', '7043346', '7272406', '8742753', '8171259', '8171266', '8522386', '6340662', '3559745', '3485505', '1346650', '1214103', '334166', '5542202', '7614002', '6757348', '811337', '3075895', '5195044', '5504960', '5488056', '1107275', '290479', '7855165', '3175627', '2224812', '1785514', '6246259', '3037595', '8018830', '3414347', '3865123', '6458567', '6336546', '5151760', '5699309', '5506023', '1366362', '777336', '7302234', '5542201', '5369865', '8244291', '4645439', '5824866', '6532460', '5271184', '5763548', '1110470', '6440818', '5356241', '8289408', '395726', '5089556', '2403178', '1915769', '7853630', '4041336', '2863562', '3106949', '8018857', '4314398', '1214102', '4137806', '7440046', '8824662', '4215307', '4580820', '5861770', '5488061', '1543822', '494179', '2272633', '6160544', '6429287', '8501479', '3099734', '3959432', '6410327', '6293712', '3423939', '3462358', '2675587', '7073651', '4784963', '5542207', '2070991', '1300703', '918020', '1214099', '5203301', '7372977', '1543817', '1076772', '2407257', '2407259', '1057016', '889375', '3260768', '5935699', '6490900', '7098207', '4010105', '1527473', '2684772', '8526684', '903610', '6017918', '6410323', '5824860', '6563914', '7982384', '5390761', '1165071', '8501480', '2659927', '3820164', '4566095', '5571856', '7866723', '3758684', '903614', '4784755', '7676830', '5542204', '6563072', '3649572', '6517142', '8315264', '8365148', '2684774', '5159668', '3900866', '519872', '7016391', '7704817', '3022052', '1902415', '6715733', '7874184', '488704', '5698571', '3408993', '4706529', '5824859', '3671549', '4606730', '7653351', '3175633', '903609', '6368216', '3661889', '692899', '134188', '5902229', '3279354', '22125', '3163011', '3163013', '3163015', '6635223', '5542206', '5542208', '5590932', '963244', '405438', '2979442', '7316184', '2408305', '1978097', '7050720', '7042173', '7744694', '2232146', '3630997', '4223893', '5429871', '1346682', '5151759', '3962182', '6160545', '6111677', '6496418', '4928907', '5134788', '7800432', '2033930', '6839424', '6638084', '7335970', '7698299', '3577240', '1107273', '993398', '6334329']\n"
     ]
    }
   ],
   "source": [
    "for qid, passage in query_topK.items():\n",
    "    print(qid)\n",
    "    print(passage)\n",
    "    break"
   ]
  },
  {
   "cell_type": "markdown",
   "metadata": {},
   "source": [
    "### Get Mean Average Precision for the system\n",
    "- Precision score for each query"
   ]
  },
  {
   "cell_type": "code",
   "execution_count": 67,
   "metadata": {},
   "outputs": [],
   "source": [
    "def get_average_precision(system_ranking, ground_truth) -> float:\n",
    "    vals = []\n",
    "    over = 1\n",
    "    for rank_idx, rank in enumerate(system_ranking):\n",
    "        under = rank_idx+1\n",
    "        if rank in ground_truth:\n",
    "            vals.append(over / under)\n",
    "            over += 1\n",
    "    AP = sum(vals) / len(ground_truth)\n",
    "\n",
    "    return AP"
   ]
  },
  {
   "cell_type": "code",
   "execution_count": 68,
   "metadata": {},
   "outputs": [
    {
     "data": {
      "text/plain": [
       "1.0"
      ]
     },
     "execution_count": 68,
     "metadata": {},
     "output_type": "execute_result"
    }
   ],
   "source": [
    "system_ranking = query_topK[\"1048582\"] # List\n",
    "system_truth = qrels_score[\"1048582\"] # Set\n",
    "score = get_average_precision(system_ranking, system_truth)\n",
    "score"
   ]
  },
  {
   "cell_type": "code",
   "execution_count": 69,
   "metadata": {},
   "outputs": [],
   "source": [
    "def get_mean_eval_measure(system_rankings, ground_truths, eval_function: Callable) -> float:\n",
    "    results = []\n",
    "    for query in system_rankings:\n",
    "        if query in ground_truths.keys():\n",
    "            results.append(eval_function(system_rankings[query], ground_truths[query]))\n",
    "        else:\n",
    "            continue\n",
    "            # results.append(0) -> ?\n",
    "    return sum(results) / len(results)"
   ]
  },
  {
   "cell_type": "code",
   "execution_count": 70,
   "metadata": {},
   "outputs": [],
   "source": [
    "avg_score = get_mean_eval_measure(query_topK, qrels_score, get_average_precision)"
   ]
  },
  {
   "cell_type": "code",
   "execution_count": 71,
   "metadata": {},
   "outputs": [
    {
     "data": {
      "text/plain": [
       "0.4039270914270915"
      ]
     },
     "execution_count": 71,
     "metadata": {},
     "output_type": "execute_result"
    }
   ],
   "source": [
    "avg_score"
   ]
  }
 ],
 "metadata": {
  "kernelspec": {
   "display_name": "Python 3.9.6 64-bit",
   "language": "python",
   "name": "python3"
  },
  "language_info": {
   "codemirror_mode": {
    "name": "ipython",
    "version": 3
   },
   "file_extension": ".py",
   "mimetype": "text/x-python",
   "name": "python",
   "nbconvert_exporter": "python",
   "pygments_lexer": "ipython3",
   "version": "3.9.6"
  },
  "orig_nbformat": 4,
  "vscode": {
   "interpreter": {
    "hash": "773605ce8f27446b9c69ae732168258e47ea10fbda5833a68cc76e4c6c0866c9"
   }
  }
 },
 "nbformat": 4,
 "nbformat_minor": 2
}
