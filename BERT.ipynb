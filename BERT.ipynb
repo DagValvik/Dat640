{
 "cells": [
  {
   "cell_type": "code",
   "execution_count": null,
   "metadata": {},
   "outputs": [],
   "source": [
    "# import ir_datasets\n",
    "# dataset = ir_datasets.load(\"msmarco-passage\")\n",
    "# for doc in dataset.docs_iter():\n",
    "#     doc # namedtuple<doc_id, text>"
   ]
  },
  {
   "cell_type": "code",
   "execution_count": 22,
   "metadata": {},
   "outputs": [],
   "source": [
    "from elasticsearch import Elasticsearch\n",
    "import pandas as pd\n",
    "from sentence_transformers import CrossEncoder"
   ]
  },
  {
   "cell_type": "code",
   "execution_count": 18,
   "metadata": {},
   "outputs": [
    {
     "name": "stdout",
     "output_type": "stream",
     "text": [
      "{'_index': 'passage_index', '_type': '_doc', '_id': '1', '_version': 1, '_seq_no': 1, '_primary_term': 1, 'found': True, '_source': {'content': 'The Manhattan Project and its atomic bomb helped bring an end to World War II. Its legacy of peaceful uses of atomic energy continues to have an impact on history and science.'}}\n"
     ]
    }
   ],
   "source": [
    "es = Elasticsearch()\n",
    "# es.info()\n",
    "INDEX_NAME = \"passage_index\"\n",
    "doc = es.get(index=INDEX_NAME, id=1)\n",
    "print(doc)"
   ]
  },
  {
   "cell_type": "code",
   "execution_count": 42,
   "metadata": {},
   "outputs": [
    {
     "data": {
      "text/html": [
       "<div>\n",
       "<style scoped>\n",
       "    .dataframe tbody tr th:only-of-type {\n",
       "        vertical-align: middle;\n",
       "    }\n",
       "\n",
       "    .dataframe tbody tr th {\n",
       "        vertical-align: top;\n",
       "    }\n",
       "\n",
       "    .dataframe thead th {\n",
       "        text-align: right;\n",
       "    }\n",
       "</style>\n",
       "<table border=\"1\" class=\"dataframe\">\n",
       "  <thead>\n",
       "    <tr style=\"text-align: right;\">\n",
       "      <th></th>\n",
       "      <th>0</th>\n",
       "      <th>1</th>\n",
       "    </tr>\n",
       "  </thead>\n",
       "  <tbody>\n",
       "    <tr>\n",
       "      <th>0</th>\n",
       "      <td>786436</td>\n",
       "      <td>what is prescribed to treat thyroid storm</td>\n",
       "    </tr>\n",
       "    <tr>\n",
       "      <th>1</th>\n",
       "      <td>9</td>\n",
       "      <td>Refer to the data. Diminishing returns begin ...</td>\n",
       "    </tr>\n",
       "    <tr>\n",
       "      <th>2</th>\n",
       "      <td>786450</td>\n",
       "      <td>what is presentation software?</td>\n",
       "    </tr>\n",
       "    <tr>\n",
       "      <th>3</th>\n",
       "      <td>524308</td>\n",
       "      <td>treasury routing number</td>\n",
       "    </tr>\n",
       "    <tr>\n",
       "      <th>4</th>\n",
       "      <td>33</td>\n",
       "      <td>game called poem who wrote what occasion</td>\n",
       "    </tr>\n",
       "  </tbody>\n",
       "</table>\n",
       "</div>"
      ],
      "text/plain": [
       "        0                                                  1\n",
       "0  786436          what is prescribed to treat thyroid storm\n",
       "1       9   Refer to the data. Diminishing returns begin ...\n",
       "2  786450                     what is presentation software?\n",
       "3  524308                            treasury routing number\n",
       "4      33           game called poem who wrote what occasion"
      ]
     },
     "execution_count": 42,
     "metadata": {},
     "output_type": "execute_result"
    }
   ],
   "source": [
    "queries_eval = pd.read_csv(\"data/queries/queries.eval.tsv\", sep='\\t', header=None)#, index_col=0)\n",
    "queries_eval.head()"
   ]
  },
  {
   "cell_type": "code",
   "execution_count": 46,
   "metadata": {},
   "outputs": [
    {
     "name": "stdout",
     "output_type": "stream",
     "text": [
      "8841823\n"
     ]
    },
    {
     "data": {
      "text/html": [
       "<div>\n",
       "<style scoped>\n",
       "    .dataframe tbody tr th:only-of-type {\n",
       "        vertical-align: middle;\n",
       "    }\n",
       "\n",
       "    .dataframe tbody tr th {\n",
       "        vertical-align: top;\n",
       "    }\n",
       "\n",
       "    .dataframe thead th {\n",
       "        text-align: right;\n",
       "    }\n",
       "</style>\n",
       "<table border=\"1\" class=\"dataframe\">\n",
       "  <thead>\n",
       "    <tr style=\"text-align: right;\">\n",
       "      <th></th>\n",
       "      <th>0</th>\n",
       "      <th>1</th>\n",
       "    </tr>\n",
       "  </thead>\n",
       "  <tbody>\n",
       "    <tr>\n",
       "      <th>0</th>\n",
       "      <td>0</td>\n",
       "      <td>The presence of communication amid scientific ...</td>\n",
       "    </tr>\n",
       "    <tr>\n",
       "      <th>1</th>\n",
       "      <td>1</td>\n",
       "      <td>The Manhattan Project and its atomic bomb help...</td>\n",
       "    </tr>\n",
       "    <tr>\n",
       "      <th>2</th>\n",
       "      <td>2</td>\n",
       "      <td>Essay on The Manhattan Project - The Manhattan...</td>\n",
       "    </tr>\n",
       "    <tr>\n",
       "      <th>3</th>\n",
       "      <td>3</td>\n",
       "      <td>The Manhattan Project was the name for a proje...</td>\n",
       "    </tr>\n",
       "    <tr>\n",
       "      <th>4</th>\n",
       "      <td>4</td>\n",
       "      <td>versions of each volume as well as complementa...</td>\n",
       "    </tr>\n",
       "  </tbody>\n",
       "</table>\n",
       "</div>"
      ],
      "text/plain": [
       "   0                                                  1\n",
       "0  0  The presence of communication amid scientific ...\n",
       "1  1  The Manhattan Project and its atomic bomb help...\n",
       "2  2  Essay on The Manhattan Project - The Manhattan...\n",
       "3  3  The Manhattan Project was the name for a proje...\n",
       "4  4  versions of each volume as well as complementa..."
      ]
     },
     "execution_count": 46,
     "metadata": {},
     "output_type": "execute_result"
    }
   ],
   "source": [
    "# collectionFile = \"data/collection/collection.tsv\"\n",
    "collection_df = pd.read_csv(\"data/collection/collection.tsv\", sep='\\t', header=None) #, index_col=0)\n",
    "print(len(collection_df))\n",
    "collection_df.head()"
   ]
  },
  {
   "cell_type": "code",
   "execution_count": 50,
   "metadata": {},
   "outputs": [],
   "source": [
    "qrelspath = \"data/queries/qrels.txt\"\n",
    "\n",
    "qrels = set()\n",
    "with open(qrelspath, encoding=\"utf-8\") as file:\n",
    "    for line in file:\n",
    "        l = line.split(' ')\n",
    "        qrels.add(l[0])"
   ]
  },
  {
   "cell_type": "code",
   "execution_count": null,
   "metadata": {},
   "outputs": [],
   "source": [
    "# def relevant_queries(queries, qrels):\n",
    "#     relevant_queries = []\n",
    "#     relevant_queries_id = []\n",
    "\n",
    "#     for idx, query in enumerate(queries):\n",
    "#         query_id = str(queries_id[idx])\n",
    "#         if query_id in qrels:\n",
    "#             relevant_queries.append(query)\n",
    "#             relevant_queries_id.append(query_id)\n",
    "\n",
    "#     return relevant_queries, relevant_queries_id"
   ]
  },
  {
   "cell_type": "code",
   "execution_count": 53,
   "metadata": {},
   "outputs": [],
   "source": [
    "queriesToUse = {}\n",
    "for _, query in queries_eval.iterrows():\n",
    "    if str(query[0]) in qrels:\n",
    "        queriesToUse[query[0]] = query[1]"
   ]
  },
  {
   "cell_type": "code",
   "execution_count": 56,
   "metadata": {},
   "outputs": [],
   "source": [
    "model = CrossEncoder('cross-encoder/ms-marco-TinyBERT-L-2-v2', max_length=512)\n",
    "\n",
    "ranked = {}\n",
    "\n",
    "# Rank the top 1000 passages for each query\n",
    "for query_id, query_text in queriesToUse.items():\n",
    "    # print(query_id, query_text)\n",
    "    # break\n",
    "    for _, doc in collection_df.iterrows():\n",
    "        # print(doc[0], doc[1])\n",
    "        # break\n",
    "        doc_id = doc[0]\n",
    "        doc_text = doc[1]\n",
    "        score = model.predict([(query_text, doc_text)])[0]\n",
    "        if query_id not in ranked:\n",
    "            ranked[query_id] = []\n",
    "        ranked[query_id].append((doc_id, score))\n",
    "    break"
   ]
  },
  {
   "cell_type": "code",
   "execution_count": 4,
   "metadata": {},
   "outputs": [
    {
     "data": {
      "text/plain": [
       "array([-11.0084095, -11.049721 , -11.087914 ], dtype=float32)"
      ]
     },
     "execution_count": 4,
     "metadata": {},
     "output_type": "execute_result"
    }
   ],
   "source": [
    "# from sentence_transformers import CrossEncoder\n",
    "# model = CrossEncoder('cross-encoder/ms-marco-TinyBERT-L-2-v2', max_length=512)\n",
    "\n",
    "# ranked = {}\n",
    "\n",
    "# # Rank the top 1000 passages for each query\n",
    "# for query in dataset.queries_iter():\n",
    "#     query_id = query.query_id\n",
    "#     query_text = query.query_text\n",
    "#     for doc in dataset.docs_iter():\n",
    "#         doc_id = doc.doc_id\n",
    "#         doc_text = doc.text\n",
    "#         score = model.predict([(query_text, doc_text)])[0]\n",
    "#         if query_id not in ranked:\n",
    "#             ranked[query_id] = []\n",
    "#         ranked[query_id].append((doc_id, score))\n",
    "#     ranked[query_id] = sorted(ranked[query_id], key=lambda x: x[1], reverse=True)[:1000]"
   ]
  }
 ],
 "metadata": {
  "kernelspec": {
   "display_name": "Python 3.10.5 64-bit",
   "language": "python",
   "name": "python3"
  },
  "language_info": {
   "codemirror_mode": {
    "name": "ipython",
    "version": 3
   },
   "file_extension": ".py",
   "mimetype": "text/x-python",
   "name": "python",
   "nbconvert_exporter": "python",
   "pygments_lexer": "ipython3",
   "version": "3.10.5"
  },
  "orig_nbformat": 4,
  "vscode": {
   "interpreter": {
    "hash": "369f2c481f4da34e4445cda3fffd2e751bd1c4d706f27375911949ba6bb62e1c"
   }
  }
 },
 "nbformat": 4,
 "nbformat_minor": 2
}
